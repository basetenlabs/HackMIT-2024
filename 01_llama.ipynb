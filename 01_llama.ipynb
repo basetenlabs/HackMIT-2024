{
 "cells": [
  {
   "cell_type": "markdown",
   "metadata": {},
   "source": [
    "# Llama 3.1 Inference\n",
    "\n",
    "This notebook demonstrates using Llama 3.1 deployed on Baseten. The code for the underlying deployment can be found at https://docs.baseten.co/performance/examples/llama-trt."
   ]
  },
  {
   "cell_type": "code",
   "execution_count": null,
   "metadata": {},
   "outputs": [],
   "source": [
    "# Setup\n",
    "\n",
    "import requests\n",
    "\n",
    "MODEL_ID = \"8w6yyp2q\"\n",
    "BASETEN_API_KEY = \"\" # Paste from Discord"
   ]
  },
  {
   "cell_type": "code",
   "execution_count": null,
   "metadata": {},
   "outputs": [],
   "source": [
    "# Basic inference with streaming output\n",
    "\n",
    "# The notebook may cut off streaming output, calling the model from the terminal instead could help.\n",
    "\n",
    "messages = [\n",
    "    {\"role\": \"system\", \"content\": \"You are an expert software developer serving as a mentor at the HackMIT hackathon.\"},\n",
    "    {\"role\": \"user\", \"content\": \"What are some hackathon project ideas?\"},\n",
    "]\n",
    "\n",
    "payload = {\n",
    "    \"messages\": messages,\n",
    "    \"stream\": True,\n",
    "    \"max_new_tokens\": 2048,\n",
    "    \"temperature\": 0.9\n",
    "}\n",
    "\n",
    "# Call model endpoint\n",
    "res = requests.post(\n",
    "    f\"https://model-{MODEL_ID}.api.baseten.co/production/predict\",\n",
    "    headers={\"Authorization\": f\"Api-Key {BASETEN_API_KEY}\"},\n",
    "    json=payload,\n",
    "    stream=True\n",
    ")\n",
    "\n",
    "# Print the generated tokens as they get streamed\n",
    "for content in res.iter_content():\n",
    "    print(content.decode(\"utf-8\"), end=\"\", flush=True)"
   ]
  },
  {
   "cell_type": "code",
   "execution_count": null,
   "metadata": {},
   "outputs": [],
   "source": [
    "# Basic inference without streaming\n",
    "\n",
    "# Again, the notebook may cut off the full output.\n",
    "\n",
    "messages = [\n",
    "    {\"role\": \"system\", \"content\": \"You are an expert software developer serving as a mentor at the HackMIT hackathon.\"},\n",
    "    {\"role\": \"user\", \"content\": \"What are some hackathon project ideas?\"},\n",
    "]\n",
    "\n",
    "payload = {\n",
    "    \"messages\": messages,\n",
    "    \"stream\": False,\n",
    "    \"max_new_tokens\": 2048,\n",
    "    \"temperature\": 0.9\n",
    "}\n",
    "\n",
    "# Call model endpoint\n",
    "res = requests.post(\n",
    "    f\"https://model-{MODEL_ID}.api.baseten.co/production/predict\",\n",
    "    headers={\"Authorization\": f\"Api-Key {BASETEN_API_KEY}\"},\n",
    "    json=payload,\n",
    "    stream=False\n",
    ")\n",
    "\n",
    "# Print the generated tokens as they get streamed\n",
    "print(res.text)"
   ]
  },
  {
   "cell_type": "markdown",
   "metadata": {},
   "source": [
    "## What else to know\n",
    "\n",
    "This Llama 3.1 implementation supports function calling (tool use) and structured output (JSON mode).\n",
    "\n",
    "Check out the docs for more:\n",
    "\n",
    "* Structured output: https://docs.baseten.co/invoke/structured-output\n",
    "* Function calling: https://docs.baseten.co/invoke/function-calling\n",
    "\n",
    "If you're doing any extremely long-running queries, it also supports async inference: https://docs.baseten.co/invoke/async."
   ]
  }
 ],
 "metadata": {
  "language_info": {
   "name": "python"
  }
 },
 "nbformat": 4,
 "nbformat_minor": 2
}
