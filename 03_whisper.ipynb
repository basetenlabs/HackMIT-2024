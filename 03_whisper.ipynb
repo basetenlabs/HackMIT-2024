{
 "cells": [
  {
   "cell_type": "markdown",
   "metadata": {},
   "source": [
    "# Whisper 3 Inference\n",
    "\n",
    "This notebook demonstrates using Whisper 3 deployed on Baseten. The code for the underlying deployment can be found at https://docs.baseten.co/performance/examples/whisper-trt."
   ]
  }
 ],
 "metadata": {
  "language_info": {
   "name": "python"
  }
 },
 "nbformat": 4,
 "nbformat_minor": 2
}
