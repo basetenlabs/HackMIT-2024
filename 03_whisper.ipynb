{
 "cells": [
  {
   "cell_type": "markdown",
   "metadata": {},
   "source": [
    "# Whisper 3 Inference\n",
    "\n",
    "This notebook demonstrates using Whisper 3 deployed on Baseten. The code for the underlying deployment can be found at https://www.baseten.co/library/whisper-v3/ and https://github.com/basetenlabs/truss-examples/tree/main/whisper/whisper-v3-truss."
   ]
  },
  {
   "cell_type": "code",
   "execution_count": null,
   "metadata": {},
   "outputs": [],
   "source": [
    "# Setup\n",
    "\n",
    "import requests\n",
    "\n",
    "MODEL_ID = \"03y55vew\"\n",
    "BASETEN_API_KEY = \"\" # Paste from Discord"
   ]
  },
  {
   "cell_type": "code",
   "execution_count": null,
   "metadata": {},
   "outputs": [],
   "source": [
    "payload = {\n",
    "  \"url\": \"https://cdn.baseten.co/docs/production/Gettysburg.mp3\"\n",
    "}\n",
    "\n",
    "\n",
    "# Call model endpoint\n",
    "res = requests.post(\n",
    "    f\"https://model-{MODEL_ID}.api.baseten.co/production/predict\",\n",
    "    headers={\"Authorization\": f\"Api-Key {BASETEN_API_KEY}\"},\n",
    "    json=payload\n",
    ")\n",
    "\n",
    "# Print the output of the model\n",
    "print(res.json())"
   ]
  },
  {
   "cell_type": "markdown",
   "metadata": {},
   "source": [
    "## What else to know\n",
    "\n",
    "This Whisper implementation supports a few other ways of using it:\n",
    "\n",
    "* With a base64-encoded audio file instead of a URL: https://docs.baseten.co/performance/examples/whisper-trt#usage\n",
    "* For fast transcription of large audio files: https://github.com/basetenlabs/truss/tree/main/truss-chains/examples/audio-transcription\n",
    "\n",
    "If you want to go in the other direction – text to speech – check out this blog post: https://www.baseten.co/blog/streaming-real-time-text-to-speech-with-xtts-v2/"
   ]
  }
 ],
 "metadata": {
  "language_info": {
   "name": "python"
  }
 },
 "nbformat": 4,
 "nbformat_minor": 2
}
