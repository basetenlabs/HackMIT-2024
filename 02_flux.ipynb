{
 "cells": [
  {
   "cell_type": "markdown",
   "metadata": {},
   "source": [
    "# FLUX.1 Inference\n",
    "\n",
    "This notebook demonstrates using FLUX.1 deployed on Baseten. The code for the underlying deployment can be found at https://www.baseten.co/library/flux-dev/ and https://github.com/basetenlabs/truss-examples/tree/main/flux/dev."
   ]
  },
  {
   "cell_type": "code",
   "execution_count": null,
   "metadata": {},
   "outputs": [],
   "source": [
    "# Setup\n",
    "\n",
    "import requests\n",
    "import base64\n",
    "\n",
    "MODEL_ID = \"\"\n",
    "BASETEN_API_KEY = \"\" # Paste from Discord"
   ]
  },
  {
   "cell_type": "code",
   "execution_count": null,
   "metadata": {},
   "outputs": [],
   "source": [
    "payload = {\n",
    "    \"prompt\": \"Giant concrete blocks that spell HACK MIT with the word 'HACK' on top of the word 'MIT' in a dense forest\",\n",
    "    \"steps\": 50\n",
    "}\n",
    "\n",
    "# Call model endpoint\n",
    "res = requests.post(\n",
    "    f\"https://model-{MODEL_ID}.api.baseten.co/production/predict\",\n",
    "    headers={\"Authorization\": f\"Api-Key {BASETEN_API_KEY}\"},\n",
    "    json=payload\n",
    ")\n",
    "\n",
    "img_b64 = res.get(\"data\")\n",
    "img = base64.b64decode(img_b64)\n",
    "\n",
    "img_file = open(\"flux.png\", \"wb\") # Note this will overwrite an existing flux.png file\n",
    "img_file.write(img)\n",
    "img_file.close()"
   ]
  },
  {
   "cell_type": "markdown",
   "metadata": {},
   "source": [
    "## What else to know\n",
    "\n",
    "FLUX.1 is an incredibly capable model with great range, accuracy, and detail. One thing it's particularly good at is inserting text into images, like the example prompt shows.\n",
    "\n",
    "However, it's also a 12-billion-parameter model, so image generation is slower than other options. Check out this list of open-source image generation models for more options: https://www.baseten.co/blog/the-best-open-source-image-generation-model/"
   ]
  }
 ],
 "metadata": {
  "language_info": {
   "name": "python"
  }
 },
 "nbformat": 4,
 "nbformat_minor": 2
}
