{
 "cells": [
  {
   "cell_type": "markdown",
   "metadata": {},
   "source": [
    "# FLUX.1 Inference\n",
    "\n",
    "This notebook demonstrates using FLUX.1 deployed on Baseten. The code for the underlying deployment can be found at https://www.baseten.co/library/flux-dev/ and https://github.com/basetenlabs/truss-examples/tree/main/flux/dev."
   ]
  }
 ],
 "metadata": {
  "language_info": {
   "name": "python"
  }
 },
 "nbformat": 4,
 "nbformat_minor": 2
}
