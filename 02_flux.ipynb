{
 "cells": [
  {
   "cell_type": "markdown",
   "metadata": {},
   "source": [
    "# FLUX.1 Inference\n",
    "\n",
    "This notebook demonstrates using FLUX.1 deployed on Baseten. The code for the underlying deployment can be found at https://www.baseten.co/library/flux-dev/ and https://github.com/basetenlabs/truss-examples/tree/main/flux/dev."
   ]
  },
  {
   "cell_type": "code",
   "execution_count": null,
   "metadata": {},
   "outputs": [],
   "source": [
    "# Setup\n",
    "\n",
    "import requests\n",
    "import json\n",
    "\n",
    "MODEL_ID = \"\"\n",
    "BASETEN_API_KEY = \"\" # Paste from Discord"
   ]
  }
 ],
 "metadata": {
  "language_info": {
   "name": "python"
  }
 },
 "nbformat": 4,
 "nbformat_minor": 2
}
